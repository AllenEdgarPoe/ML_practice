{
 "cells": [
  {
   "cell_type": "code",
   "execution_count": 1,
   "metadata": {},
   "outputs": [],
   "source": [
    "import openpyxl\n",
    "import numpy as np\n",
    "\n",
    "raw_data = openpyxl.load_workbook('factorial design.xlsx')"
   ]
  },
  {
   "cell_type": "markdown",
   "metadata": {},
   "source": [
    "### Data Extraction"
   ]
  },
  {
   "cell_type": "code",
   "execution_count": 34,
   "metadata": {},
   "outputs": [],
   "source": [
    "sheet = raw_data['Sheet1']\n",
    "X = sheet['B3:C14']\n",
    "X_data = []\n",
    "for cell1, cell2 in X:\n",
    "    x = '{}->{}'.format(cell1.value,cell2.value)\n",
    "    X_data.append(x)\n",
    "X_data = np.array(X_data)\n",
    "feature_name = np.array([i.value for i in cell for cell in sheet['D2:R2']])"
   ]
  },
  {
   "cell_type": "code",
   "execution_count": 52,
   "metadata": {},
   "outputs": [],
   "source": [
    "feature = sheet['D3:R14']\n",
    "Array = []\n",
    "for row in feature:\n",
    "    row_array = [0 if element.value == None else element.value for element in row]\n",
    "    Array.append(row_array)\n",
    "Array = np.array(Array)"
   ]
  },
  {
   "cell_type": "code",
   "execution_count": 111,
   "metadata": {},
   "outputs": [],
   "source": [
    "feature = sheet['D3:R14']\n",
    "Array_list = []\n",
    "for row in feature:\n",
    "    row_array = [0 if element.value == None else element.value for element in row]\n",
    "    Array_list.append(row_array)\n",
    "Array = np.array(Array)\n",
    "\n",
    "Total = []\n",
    "for num in range(len(Array)):\n",
    "    deleted_array = Array_list.copy()\n",
    "    del deleted_array[num]\n",
    "    for row in np.array(deleted_array):\n",
    "        new = np.array(deleted_array) - row\n",
    "        Total.append(list(new))"
   ]
  },
  {
   "cell_type": "code",
   "execution_count": null,
   "metadata": {},
   "outputs": [],
   "source": []
  }
 ],
 "metadata": {
  "kernelspec": {
   "display_name": "Python 3",
   "language": "python",
   "name": "python3"
  },
  "language_info": {
   "codemirror_mode": {
    "name": "ipython",
    "version": 3
   },
   "file_extension": ".py",
   "mimetype": "text/x-python",
   "name": "python",
   "nbconvert_exporter": "python",
   "pygments_lexer": "ipython3",
   "version": "3.6.5"
  }
 },
 "nbformat": 4,
 "nbformat_minor": 2
}
